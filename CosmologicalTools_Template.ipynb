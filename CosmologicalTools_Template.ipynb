{
 "cells": [
  {
   "cell_type": "code",
   "execution_count": 9,
   "metadata": {},
   "outputs": [],
   "source": [
    "# In Class Lab 9 Template\n",
    "# Cosmological Tools"
   ]
  },
  {
   "cell_type": "code",
   "execution_count": 1,
   "metadata": {},
   "outputs": [],
   "source": [
    "# import modules\n",
    "import numpy as np\n",
    "import astropy.units as u\n",
    "from astropy.constants import G\n",
    "\n",
    "# import plotting modules\n",
    "import matplotlib.pyplot as plt\n",
    "import matplotlib\n",
    "%matplotlib inline"
   ]
  },
  {
   "cell_type": "code",
   "execution_count": 5,
   "metadata": {},
   "outputs": [],
   "source": [
    "# Define the benchmark cosmology at z =0\n",
    "# Planck 2015 results. XIII. Cosmological parameters   \n",
    "# Planck Collaboration+2016 A&A 594 13  Table 4, column 2 \n",
    "\n",
    "OmegaM = 0.308   # Matter Density Parameter\n",
    "OmegaR = 8.24e-5  # Radiation Density Parameter\n",
    "OmegaL = 0.692  # Dark Energy Density Parameter\n",
    "h = 0.6781   # Hubble Constant  100 h km/s/Mpc\n",
    "        "
   ]
  },
  {
   "cell_type": "code",
   "execution_count": 17,
   "metadata": {},
   "outputs": [],
   "source": [
    "class CosmologicalTools:\n",
    "    # Define a class that provides functions to compute various cosmological quantities\n",
    "    # for a given cosmology  \n",
    "        \n",
    "    def __init__(self, OmegaM, OmegaR, OmegaL, h):\n",
    "        # initialize the instance of the class - for any given Cosmology\n",
    "        # Input:    Omega M matter density parameter\n",
    "        #           Omega R radiation density parameter\n",
    "        #           Omega L  dark energy density parameter\n",
    "        #           h  normalization for the hubble parameter\n",
    "        \n",
    "        # initialize the cosmology\n",
    "        self.OmegaM = OmegaM # Matter Density Parameter\n",
    "        self.OmegaR = OmegaR  # Radiation Density Parameter\n",
    "        self.OmegaL = OmegaL  # Dark Energy Density Parameter\n",
    "        self.OmegaK = 1.0 - (OmegaM + OmegaR + OmegaL) # Curvature Density Parameter\n",
    "    \n",
    "        self.h = h   # Normalization of Hubble Parameter   \n",
    "        self.Ho = h*100*u.km/u.s/u.Mpc #  Hubble Constant at z=0  100 h km/s/Mpc\n",
    "    \n",
    "    \n",
    "    # Question 1 A)\n",
    "    def HubbleParameterZ(self, z):\n",
    "        # Function that defines the Hubble Parameter as a function of redshift\n",
    "        # Input:   Redshift z \n",
    "        # Returns: The Hubble parameter at the given redshift in units of km/s/Mpc        \n",
    "        \n",
    "        Hz=np.sqrt(self.Ho**2*(self.OmegaM*(1+z)**3+self.OmegaR*(1+z)**4+self.OmegaL+self.OmegaK*(1+z)**2))\n",
    "        #Hz=z\n",
    "        return Hz\n",
    "    \n",
    "    \n",
    "    # Question 2 A)\n",
    "    def OmegaM_Z(self,z):\n",
    "        # Function that defines the matter density parameter as a function of redshift\n",
    "        # Input:  Redshift z . Can be an array\n",
    "        # Output:  Matter Density Parameter at the given redshift.\n",
    "        \n",
    "        # FILL THIS IN\n",
    "        return \n",
    "    \n",
    "    def OmegaR_Z(self,z):\n",
    "        # Function that defines the radiation density parameter as a function of redshift\n",
    "        # Input:  Redshift z . Can be an array\n",
    "        # Output:  Radiation Density Parameter at the given redshift.\n",
    "        \n",
    "        # FILL THIS IN\n",
    "        return \n",
    "    \n",
    "    \n",
    "    def OmegaL_Z(self,z):\n",
    "        # Function that defines the dark energy density parameter as a function of redshift\n",
    "        # Input:  Redshift z . Can be an array\n",
    "        # Output:  Dark Energy Density Parameter at the given redshift.\n",
    "        \n",
    "        # FILL THIS IN\n",
    "        return \n",
    "    \n",
    "    \n",
    "    "
   ]
  },
  {
   "cell_type": "code",
   "execution_count": 18,
   "metadata": {},
   "outputs": [
    {
     "data": {
      "text/latex": [
       "$424.7821 \\; \\mathrm{\\frac{km}{Mpc\\,s}}$"
      ],
      "text/plain": [
       "<Quantity 424.78210457 km / (Mpc s)>"
      ]
     },
     "execution_count": 18,
     "metadata": {},
     "output_type": "execute_result"
    }
   ],
   "source": [
    "# Define here an instance of the Class Cosmological Tools that follows the Benchmark Cosmology\n",
    "\n",
    "bench = CosmologicalTools(OmegaM,OmegaR,OmegaL,h)\n",
    "bench.HubbleParameterZ(4)"
   ]
  },
  {
   "cell_type": "code",
   "execution_count": 1,
   "metadata": {
    "collapsed": true
   },
   "outputs": [],
   "source": [
    "# Question 1 B) \n",
    "\n",
    "# Test Hubble Parmeter at z = 0\n"
   ]
  },
  {
   "cell_type": "code",
   "execution_count": 2,
   "metadata": {
    "collapsed": true
   },
   "outputs": [],
   "source": [
    "# Question 1 C) \n",
    "\n",
    "# Compute the Hubble Parameter at z = 1 in BenchMark Cosmology\n"
   ]
  },
  {
   "cell_type": "code",
   "execution_count": 7,
   "metadata": {},
   "outputs": [
    {
     "ename": "SyntaxError",
     "evalue": "invalid syntax (<ipython-input-7-47808b3e1891>, line 3)",
     "output_type": "error",
     "traceback": [
      "\u001b[0;36m  File \u001b[0;32m\"<ipython-input-7-47808b3e1891>\"\u001b[0;36m, line \u001b[0;32m3\u001b[0m\n\u001b[0;31m    OmegaMD =\u001b[0m\n\u001b[0m              ^\u001b[0m\n\u001b[0;31mSyntaxError\u001b[0m\u001b[0;31m:\u001b[0m invalid syntax\n"
     ]
    }
   ],
   "source": [
    "# Question 1 D) \n",
    "# Define the cosmology for the Einstein De Sitter Universe\n",
    "OmegaMD = \n",
    "OmegaRD = \n",
    "OmegaLD = \n",
    "# h is the same\n",
    "\n",
    "# Define a New Instance of the Class with Einstein De Sitter Cosmology \n",
    "\n",
    "# Compute the Hubble Parameter at z = 1.0 in Einstein De Sitter Cosmology\n"
   ]
  },
  {
   "cell_type": "markdown",
   "metadata": {},
   "source": [
    "# Question 1 D) \n",
    "Is the recession velocity for a galaxy at a given distance expected to be larger or smaller in Einstein De Sitter vs the Benchmark cosmology at z=1?"
   ]
  },
  {
   "cell_type": "code",
   "execution_count": 1,
   "metadata": {},
   "outputs": [
    {
     "ename": "SyntaxError",
     "evalue": "invalid syntax (<ipython-input-1-3667407cb18c>, line 17)",
     "output_type": "error",
     "traceback": [
      "\u001b[0;36m  File \u001b[0;32m\"<ipython-input-1-3667407cb18c>\"\u001b[0;36m, line \u001b[0;32m17\u001b[0m\n\u001b[0;31m    plt.semilogx(  , color='blue', linewidth=5, label=r'$\\Omega_M$(z)')\u001b[0m\n\u001b[0m                   ^\u001b[0m\n\u001b[0;31mSyntaxError\u001b[0m\u001b[0;31m:\u001b[0m invalid syntax\n"
     ]
    }
   ],
   "source": [
    "# Question 2 B) \n",
    "\n",
    "\n",
    "# Plot the Redshift Evolution of OmegaM, OmegaR and OmegaL\n",
    "############################################################\n",
    "\n",
    "fig = plt.figure(figsize=(10,10))\n",
    "ax = plt.subplot(111)\n",
    "\n",
    "# Define an array of redshift \n",
    "zmax = 10**5\n",
    "zmin = -0.9\n",
    "zrange = np.arange(zmin, zmax, 0.1)\n",
    "\n",
    "\n",
    "# Evolution of Matter Density Parameter as a function of 1+z\n",
    "# FILL THIS IN\n",
    "plt.semilogx(  , color='blue', linewidth=5, label=r'$\\Omega_M$(z)')\n",
    "\n",
    "# Evolution of Radiation Density Parameter \n",
    "# FILL THIS IN \n",
    "plt.semilogx(  , color='red', linewidth=5, label=r'$\\Omega_R$(z)')\n",
    "\n",
    "# Evolution of Dark Energy Density Parameter \n",
    "# FILL THIS IN\n",
    "plt.semilogx(  , color='black', linewidth=5, label=r'$\\Omega_L$(z)')\n",
    "\n",
    "\n",
    "\n",
    "\n",
    "# Add axis labels\n",
    "plt.xlabel('1+z', fontsize=22)\n",
    "plt.ylabel(r'$\\Omega$(z)', fontsize=22)\n",
    "\n",
    "\n",
    "#adjust tick label font size\n",
    "label_size = 22\n",
    "matplotlib.rcParams['xtick.labelsize'] = label_size \n",
    "matplotlib.rcParams['ytick.labelsize'] = label_size\n",
    "\n",
    "\n",
    "legend = ax.legend(loc='upper center', fontsize='x-large', bbox_to_anchor=(0.5, 1.05),ncol=3, fancybox=True, shadow=True)\n",
    "\n",
    "# Save to a file\n",
    "ax.set_rasterized(True)\n",
    "plt.savefig('DensityParameterEvolution.eps', rasterized=True, dpi=350)"
   ]
  },
  {
   "cell_type": "markdown",
   "metadata": {},
   "source": [
    "# Question 2 C) \n",
    "\n",
    " At what approximate redshift does Radiation Density dominate?\n",
    "\n",
    " \n",
    "\n",
    " At what approximate redshift does Dark Energy dominate?   \n",
    "\n"
   ]
  },
  {
   "cell_type": "code",
   "execution_count": null,
   "metadata": {
    "collapsed": true
   },
   "outputs": [],
   "source": []
  }
 ],
 "metadata": {
  "kernelspec": {
   "display_name": "Python 3",
   "language": "python",
   "name": "python3"
  },
  "language_info": {
   "codemirror_mode": {
    "name": "ipython",
    "version": 3
   },
   "file_extension": ".py",
   "mimetype": "text/x-python",
   "name": "python",
   "nbconvert_exporter": "python",
   "pygments_lexer": "ipython3",
   "version": "3.6.5"
  }
 },
 "nbformat": 4,
 "nbformat_minor": 2
}
